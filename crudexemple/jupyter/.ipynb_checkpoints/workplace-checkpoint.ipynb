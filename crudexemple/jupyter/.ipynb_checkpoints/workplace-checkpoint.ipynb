{
 "cells": [
  {
   "cell_type": "code",
   "execution_count": 48,
   "id": "f6a39219",
   "metadata": {},
   "outputs": [],
   "source": [
    "from jinja2 import Template\n",
    "import datetime "
   ]
  },
  {
   "cell_type": "code",
   "execution_count": 62,
   "id": "a299ef4e",
   "metadata": {},
   "outputs": [],
   "source": [
    "class Person:\n",
    "    def __init__(self, name, age):\n",
    "        self.name = name\n",
    "        self.age = age\n",
    "    def getName(self):\n",
    "        return self.name\n",
    " \n",
    "    def getAge(self):\n",
    "        return self.age"
   ]
  },
  {
   "cell_type": "code",
   "execution_count": 63,
   "id": "9dcf2f29",
   "metadata": {},
   "outputs": [],
   "source": [
    " per = Person(\"Федор\", 33)"
   ]
  },
  {
   "cell_type": "code",
   "execution_count": 65,
   "id": "35e824e9",
   "metadata": {},
   "outputs": [],
   "source": [
    "tm = Template(\"Мне {{p.age}} лет и зовут {{ p.name }}.\")\n",
    "msg = tm.render(p=per)"
   ]
  },
  {
   "cell_type": "code",
   "execution_count": 68,
   "id": "479078c4",
   "metadata": {},
   "outputs": [],
   "source": [
    "per = { 'name': 'Педор', 'age': 34 }\n",
    " \n",
    "tm = Template(\"Мне {{p.age}} лет и зовут {{ p.name }}.\")\n",
    "msg = tm.render(p=per)"
   ]
  },
  {
   "cell_type": "code",
   "execution_count": 69,
   "id": "46e33bcc",
   "metadata": {},
   "outputs": [
    {
     "name": "stdout",
     "output_type": "stream",
     "text": [
      "Мне 34 лет и зовут Педор.\n"
     ]
    }
   ],
   "source": [
    "print(msg) "
   ]
  },
  {
   "cell_type": "code",
   "execution_count": 64,
   "id": "7c22905a",
   "metadata": {},
   "outputs": [
    {
     "data": {
      "text/plain": [
       "'Федор'"
      ]
     },
     "execution_count": 64,
     "metadata": {},
     "output_type": "execute_result"
    }
   ],
   "source": [
    " per.getName()"
   ]
  },
  {
   "cell_type": "code",
   "execution_count": 82,
   "id": "de43035a",
   "metadata": {},
   "outputs": [
    {
     "name": "stdout",
     "output_type": "stream",
     "text": [
      "<select name=\"cities\">\n",
      "<option value=\"1\">Москва-гавно</option>\n",
      "<option value=\"5\">Тверь</option>\n",
      "<option value=\"7\">Минск</option>\n",
      "<option value=\"8\">Смоленск</option>\n",
      "<option value=\"11\">Калуга</option>\n",
      "</select>\n"
     ]
    }
   ],
   "source": [
    "cities = [{'id': 1, 'city': 'Москва', 'lol': 'гавно'},\n",
    "          {'id': 5, 'city': 'Тверь'},\n",
    "          {'id': 7, 'city': 'Минск'},\n",
    "          {'id': 8, 'city': 'Смоленск'},\n",
    "          {'id': 11, 'city': 'Калуга'}]\n",
    " \n",
    "link = '''<select name=\"cities\">\n",
    "{% for c in cities -%}\n",
    "{% if c['lol'] -%}\n",
    "    <option value=\"{{c['id']}}\">{{c['city'] + '-' + c['lol']}}</option>\n",
    "{% else -%}\n",
    "    <option value=\"{{c['id']}}\">{{c['city']}}</option>\n",
    "{% endif -%}\n",
    "{% endfor -%}\n",
    "</select>'''\n",
    " \n",
    "tm = Template(link)\n",
    "msg = tm.render(cities = cities)\n",
    " \n",
    "print(msg)"
   ]
  },
  {
   "cell_type": "code",
   "execution_count": 93,
   "id": "44609dad",
   "metadata": {},
   "outputs": [
    {
     "name": "stdout",
     "output_type": "stream",
     "text": [
      "Суммарная цена автомобилей {'model': 'Вольво', 'price': 44300}\n"
     ]
    }
   ],
   "source": [
    "cars = [\n",
    "    {'model': 'Ауди', 'price': 23000},\n",
    "    {'model': 'Шкода', 'price': 17300},\n",
    "    {'model': 'Вольво', 'price': 44300},\n",
    "    {'model': 'Фольксваген', 'price': 21300}\n",
    "]\n",
    "\n",
    "# Требуется вывести суммарную цену всех автомобилей. Для этого можно прописать такой шаблон:\n",
    "\n",
    "tpl = \"Суммарная цена автомобилей {{ cs | max(attribute='price') }}\"\n",
    "tm = Template(tpl)\n",
    "msg = tm.render(cs = cars)\n",
    " \n",
    "print(msg)"
   ]
  },
  {
   "cell_type": "code",
   "execution_count": 92,
   "id": "dd4e9dd4",
   "metadata": {},
   "outputs": [
    {
     "ename": "TypeError",
     "evalue": "unsupported operand type(s) for +: 'int' and 'dict'",
     "output_type": "error",
     "traceback": [
      "\u001b[1;31m---------------------------------------------------------------------------\u001b[0m",
      "\u001b[1;31mTypeError\u001b[0m                                 Traceback (most recent call last)",
      "\u001b[1;32m<ipython-input-92-5d353f5d2111>\u001b[0m in \u001b[0;36m<module>\u001b[1;34m\u001b[0m\n\u001b[1;32m----> 1\u001b[1;33m \u001b[0msum\u001b[0m\u001b[1;33m(\u001b[0m\u001b[0mcars\u001b[0m\u001b[1;33m)\u001b[0m\u001b[1;33m\u001b[0m\u001b[0m\n\u001b[0m",
      "\u001b[1;31mTypeError\u001b[0m: unsupported operand type(s) for +: 'int' and 'dict'"
     ]
    }
   ],
   "source": [
    "sum()"
   ]
  },
  {
   "cell_type": "code",
   "execution_count": null,
   "id": "0fa5ad4d",
   "metadata": {},
   "outputs": [],
   "source": []
  }
 ],
 "metadata": {
  "kernelspec": {
   "display_name": "Python 3",
   "language": "python",
   "name": "python3"
  },
  "language_info": {
   "codemirror_mode": {
    "name": "ipython",
    "version": 3
   },
   "file_extension": ".py",
   "mimetype": "text/x-python",
   "name": "python",
   "nbconvert_exporter": "python",
   "pygments_lexer": "ipython3",
   "version": "3.6.5"
  }
 },
 "nbformat": 4,
 "nbformat_minor": 5
}
